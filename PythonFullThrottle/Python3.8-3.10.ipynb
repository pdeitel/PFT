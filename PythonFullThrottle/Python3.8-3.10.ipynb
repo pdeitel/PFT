{
 "cells": [
  {
   "cell_type": "markdown",
   "metadata": {},
   "source": [
    "&copy; 2021 by Pearson Education, Inc. All Rights Reserved. The content in this notebook is based on the book [**Python for Programmers**](https://amzn.to/2VvdnxE)."
   ]
  },
  {
   "cell_type": "markdown",
   "metadata": {},
   "source": [
    "# Python 3.8 Features"
   ]
  },
  {
   "cell_type": "markdown",
   "metadata": {},
   "source": [
    "## New in Python 3.8: Positional-Only Function Parameters\n",
    "* Parameters that **may not be specified with keyword arguments**\n",
    "* The following `average` function may be called with positional or keyword arguments"
   ]
  },
  {
   "cell_type": "code",
   "execution_count": null,
   "metadata": {},
   "outputs": [],
   "source": [
    "def average(num1, num2, num3):\n",
    "    return (num1 + num2 + num3) / 3;"
   ]
  },
  {
   "cell_type": "code",
   "execution_count": null,
   "metadata": {},
   "outputs": [],
   "source": [
    "average(7, 20, 15)  # positional arguments"
   ]
  },
  {
   "cell_type": "code",
   "execution_count": null,
   "metadata": {},
   "outputs": [],
   "source": [
    "average(num3=15, num1=7, num2=20)  # keyword arguments"
   ]
  },
  {
   "cell_type": "markdown",
   "metadata": {},
   "source": [
    "* All parameters before a `/` in the parameter list are positional parameters"
   ]
  },
  {
   "cell_type": "code",
   "execution_count": null,
   "metadata": {},
   "outputs": [],
   "source": [
    "def average(num1, num2, num3, /):\n",
    "    return (num1 + num2 + num3) / 3;"
   ]
  },
  {
   "cell_type": "code",
   "execution_count": null,
   "metadata": {},
   "outputs": [],
   "source": [
    "average(7, 20, 15)  # positional arguments"
   ]
  },
  {
   "cell_type": "code",
   "execution_count": null,
   "metadata": {},
   "outputs": [],
   "source": [
    "average(num2=20, num1=7, num3=15)  # keyword arguments"
   ]
  },
  {
   "cell_type": "markdown",
   "metadata": {},
   "source": [
    "##  New in Python 3.8: Self-Documenting f-strings\n",
    "* In Section 5.4, we presented the following snippets that swapped two variables values and displayed the results:"
   ]
  },
  {
   "cell_type": "code",
   "execution_count": null,
   "metadata": {},
   "outputs": [],
   "source": [
    "number1 = 99"
   ]
  },
  {
   "cell_type": "code",
   "execution_count": null,
   "metadata": {},
   "outputs": [],
   "source": [
    "number2 = 22"
   ]
  },
  {
   "cell_type": "code",
   "execution_count": null,
   "metadata": {},
   "outputs": [],
   "source": [
    "number1, number2 = (number2, number1)"
   ]
  },
  {
   "cell_type": "code",
   "execution_count": null,
   "metadata": {},
   "outputs": [],
   "source": [
    "print(f'number1={number1}; number2={number2}')"
   ]
  },
  {
   "cell_type": "markdown",
   "metadata": {},
   "source": [
    "* Python 3.8 introduces **self-documenting f-strings** that enable you to express the preceding f-string more concisely as:"
   ]
  },
  {
   "cell_type": "code",
   "execution_count": null,
   "metadata": {},
   "outputs": [],
   "source": [
    "print(f'{number1=}; {number2=}')"
   ]
  },
  {
   "cell_type": "markdown",
   "metadata": {},
   "source": [
    "* When Python 3.8 encounters the = to the right of the variable name in the placeholder **`{number1=}`**, it inserts into the string the variable’s name and the equal sign as literal characters, followed immediately by the variable’s value. \n",
    "* As in the f-strings you’ve seen previously, the placeholder may contain format specifiers: "
   ]
  },
  {
   "cell_type": "code",
   "execution_count": null,
   "metadata": {},
   "outputs": [],
   "source": [
    "temperature = 98.78573"
   ]
  },
  {
   "cell_type": "code",
   "execution_count": null,
   "metadata": {},
   "outputs": [],
   "source": [
    "print(f'{temperature=:.2f}')"
   ]
  },
  {
   "cell_type": "markdown",
   "metadata": {},
   "source": [
    "##  New in Python 3.8: Assignment Expressions—Walrus Operator `:=`\n",
    "* Also called the “walrus operator”\n",
    "* **\"Try to limit use of the walrus operator to clean cases that reduce complexity and improve readability.\"**—From: https://docs.python.org/3/whatsnew/3.8.html\n",
    "* Consider the following code from Section 8.12.3, which we modified to use an `if` statement rather than a conditional expression:"
   ]
  },
  {
   "cell_type": "code",
   "execution_count": null,
   "metadata": {},
   "outputs": [],
   "source": [
    "import re"
   ]
  },
  {
   "cell_type": "code",
   "execution_count": null,
   "metadata": {},
   "outputs": [],
   "source": [
    "result = re.search('Python', 'Python is fun')"
   ]
  },
  {
   "cell_type": "code",
   "execution_count": null,
   "metadata": {},
   "outputs": [],
   "source": [
    "if result:\n",
    "    print(f'The matching text was \"{result.group()}\"')\n",
    "else:\n",
    "    print('not found')"
   ]
  },
  {
   "cell_type": "markdown",
   "metadata": {},
   "source": [
    "* Using `:=` enables you to combine the assignment into the `if` statement's condition\n",
    "* `result` receives either a match object or `None` if there is no match then the `if`...`else` statement executes accordingly"
   ]
  },
  {
   "cell_type": "code",
   "execution_count": null,
   "metadata": {
    "tags": []
   },
   "outputs": [],
   "source": [
    "if result := re.search('Python', 'Python is fun'):\n",
    "    print(f'The matching text was \"{result.group()}\"')\n",
    "else:\n",
    "    print('\"Python\" was not found')"
   ]
  },
  {
   "cell_type": "code",
   "execution_count": null,
   "metadata": {},
   "outputs": [],
   "source": [
    "if result := re.search('fun!', 'Python is fun'):\n",
    "    print(f'The matching text was \"{result.group()}\"')\n",
    "else:\n",
    "    print('\"fun!\" was not found')"
   ]
  },
  {
   "cell_type": "markdown",
   "metadata": {},
   "source": [
    "* Some of the uses shown at https://docs.python.org/3/whatsnew/3.8.html:\n",
    "    * Assignment in a condition so you can then use the result in the subsequent suite\n",
    "    * Calling regular expression functions in conditions, then using the resulting match object (if there is one) in the subsequent suite\n",
    "    * Assignments in the conditions of sentinel controlled `while` loops (such as for reading from a file)—after a read, test if the sentinel was encountered and if not, process the read content in the suite\n",
    "    * Assignments in the condition of a list, dictionary or set comprehension's `if` filter clause, so you can then use the assigned value to create what’s inserted into the new list, dictionary or set"
   ]
  },
  {
   "cell_type": "markdown",
   "metadata": {},
   "source": [
    "# Python 3.9 Features"
   ]
  },
  {
   "cell_type": "markdown",
   "metadata": {},
   "source": [
    "## New in Python 3.9: Removing prefix/suffix on a string\n",
    "https://www.python.org/dev/peps/pep-0616/"
   ]
  },
  {
   "cell_type": "code",
   "execution_count": null,
   "metadata": {},
   "outputs": [],
   "source": [
    "s = 'prefix$$$suffix'"
   ]
  },
  {
   "cell_type": "code",
   "execution_count": null,
   "metadata": {},
   "outputs": [],
   "source": [
    "s.removeprefix('prefix')"
   ]
  },
  {
   "cell_type": "code",
   "execution_count": null,
   "metadata": {},
   "outputs": [],
   "source": [
    "s.removesuffix('suffix')"
   ]
  },
  {
   "cell_type": "markdown",
   "metadata": {},
   "source": [
    "## New in Python 3.9: Dictionary union operators | and |=\n",
    "https://www.python.org/dev/peps/pep-0584 "
   ]
  },
  {
   "cell_type": "code",
   "execution_count": null,
   "metadata": {},
   "outputs": [],
   "source": [
    "capitals1 = {'Belgium': 'Brussels',\n",
    "             'Haiti': 'Port-au-Prince'}"
   ]
  },
  {
   "cell_type": "code",
   "execution_count": null,
   "metadata": {},
   "outputs": [],
   "source": [
    "capitals1"
   ]
  },
  {
   "cell_type": "code",
   "execution_count": null,
   "metadata": {},
   "outputs": [],
   "source": [
    "capitals2 = {'Nepal': 'Kathmandu',\n",
    "             'Uruguay': 'Montevideo'}"
   ]
  },
  {
   "cell_type": "code",
   "execution_count": null,
   "metadata": {},
   "outputs": [],
   "source": [
    "capitals2"
   ]
  },
  {
   "cell_type": "code",
   "execution_count": null,
   "metadata": {},
   "outputs": [],
   "source": [
    "capitals1 | capitals2"
   ]
  },
  {
   "cell_type": "code",
   "execution_count": null,
   "metadata": {},
   "outputs": [],
   "source": [
    "capitals1 |= capitals2"
   ]
  },
  {
   "cell_type": "code",
   "execution_count": null,
   "metadata": {},
   "outputs": [],
   "source": [
    "capitals1"
   ]
  },
  {
   "cell_type": "code",
   "execution_count": null,
   "metadata": {},
   "outputs": [],
   "source": [
    "capitals2"
   ]
  },
  {
   "cell_type": "markdown",
   "metadata": {},
   "source": [
    "# Python 3.10 Features\n",
    "## Pattern Matching (`match`...`case`)"
   ]
  },
  {
   "cell_type": "markdown",
   "metadata": {},
   "source": [
    "* PEP 634, Structural Pattern Matching: Specification\n",
    "> https://www.python.org/dev/peps/pep-0634/\n",
    "* PEP 635, Structural Pattern Matching: Motivation and Rationale\n",
    "> https://www.python.org/dev/peps/pep-0635/\n",
    "* PEP 636, Structural Pattern Matching: Tutorial\n",
    "> https://www.python.org/dev/peps/pep-0636/"
   ]
  },
  {
   "cell_type": "markdown",
   "metadata": {},
   "source": [
    "&copy; 2021 by Pearson Education, Inc. All Rights Reserved. The content in this notebook is based on the book [**Python for Programmers**](https://amzn.to/2VvdnxE)."
   ]
  }
 ],
 "metadata": {
  "kernelspec": {
   "display_name": "Python 3",
   "language": "python",
   "name": "python3"
  },
  "language_info": {
   "codemirror_mode": {
    "name": "ipython",
    "version": 3
   },
   "file_extension": ".py",
   "mimetype": "text/x-python",
   "name": "python",
   "nbconvert_exporter": "python",
   "pygments_lexer": "ipython3",
   "version": "3.9.4"
  }
 },
 "nbformat": 4,
 "nbformat_minor": 4
}
