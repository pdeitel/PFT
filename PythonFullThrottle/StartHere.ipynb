{
 "cells": [
  {
   "cell_type": "markdown",
   "metadata": {},
   "source": [
    "&copy; 2022 by Pearson Education, Inc. All Rights Reserved. The content in this notebook is based on the textbook [**Intro Python for Computer Science and Data Science**](https://amzn.to/2YU0QTJ) and our professional book [**Python for Programmers**](https://amzn.to/2VvdnxE) — Please do not purchase both. The professional book is a subset of the textbook."
   ]
  },
  {
   "cell_type": "markdown",
   "metadata": {
    "slideshow": {
     "slide_type": "slide"
    }
   },
   "source": [
    "# Python Full Throttle\n",
    "<img alt=\"Python Fundamentals LiveLessons cover\" src=\"./images/course_image.jpg\" width=\"300\" style=\"float:right;\"/>\n",
    "\n",
    "**Paul Deitel, CEO,  \n",
    "Deitel & Associates, Inc.**  \n",
    "* https://deitel.com  \n",
    "* <paul@deitel.com>  \n",
    "* https://deitel.com/contact-us  \n",
    "* https://facebook.com/DeitelFan  \n",
    "* https://twitter.com/deitel (@deitel)  \n",
    "* https://linkedin.com/company/deitel-&-associates\n",
    "* https://youtube.com/DeitelTV"
   ]
  },
  {
   "cell_type": "markdown",
   "metadata": {},
   "source": [
    "<hr style=\"height:2px; border:none; color:#000; background-color:#000;\">"
   ]
  },
  {
   "cell_type": "markdown",
   "metadata": {
    "slideshow": {
     "slide_type": "slide"
    }
   },
   "source": [
    "# My Upcoming O'Reilly Live Training Courses\n",
    "https://deitel.com/LearnWithDeitel\n",
    "\n",
    "* **May 17**&mdash;Python Data Science Full Throttle   \n",
    "* **June 7**&mdash;Python Full Throttle \n",
    "* **June 14**&mdash;Python Data Science Full Throttle   \n",
    "* **June 28**&mdash;Java Full Throttle \n",
    "* **July 5**&mdash;Python Full Throttle \n",
    "* **July 12**&mdash;Python Data Science Full Throttle   \n",
    "\n",
    "My Python courses run every 4-5 weeks and my Java course runs every 7-9 weeks. \n",
    "\n",
    "Under development: **C++20 Full Throttle** "
   ]
  },
  {
   "cell_type": "markdown",
   "metadata": {},
   "source": [
    "<hr style=\"height:2px; border:none; color:#000; background-color:#000;\">"
   ]
  },
  {
   "cell_type": "markdown",
   "metadata": {
    "slideshow": {
     "slide_type": "slide"
    }
   },
   "source": [
    "# Part 2 of This Course: Python Data Science and AI Full Throttle \n",
    "**Fast-paced introduction** to some of today's most compelling, leading-edge **data science** and **artificial intelligence** and technologies:\n",
    "\n",
    "* **Natural Language Processing**\n",
    "* **Data Mining Twitter**\n",
    "* **IBM Watson and Cognitive Computing**\n",
    "* **Machine Learning**\n",
    "* **Deep Learning**\n",
    "* **MongoDB NoSQL Document Database**\n",
    "* **Spark Streaming**\n",
    "* **Internet of Things (IoT) Streaming Data**\n",
    "\n",
    "**Next offering is May 17:** https://learning.oreilly.com/attend/python-r-data-science-full-throttle-with-paul-deitel-introductory-ai-big-data-and-cloud-case-studies/0636920289197/0636920064476/"
   ]
  },
  {
   "cell_type": "markdown",
   "metadata": {},
   "source": [
    "<hr style=\"height:2px; border:none; color:#000; background-color:#000;\">"
   ]
  },
  {
   "cell_type": "markdown",
   "metadata": {
    "slideshow": {
     "slide_type": "slide"
    },
    "tags": []
   },
   "source": [
    "# New on O'Reilly:<br/>**C++20 LiveLessons** Sneak Peek and<br/>**C++20 for Programmers** Rough Cut E-Book<br/>https://deitel.com/LearnWithDeitel\n",
    "<a style=\"float:left; padding-right:10px; width: 200px;\" href=\"https://learning.oreilly.com/videos/c20-fundamentals/9780136875185\"><img alt=\"C++ Fundamentals LiveLessons cover\" src=\"./images/cpp20ll.jpg\" border=\"1\"/></a>\n",
    "\n",
    "<a style=\"float:left; padding-right:10px; width:184px;\" href=\"https://learning.oreilly.com/library/view/c20-for-programmers/9780136905776/\"><img alt=\"C++20 for Programmers cover\" src=\"https://deitel.com/wp-content/uploads/2022/01/c-plus-plus-20-for-programmers-cover.png\" border=\"1\"/></a>\n"
   ]
  },
  {
   "cell_type": "markdown",
   "metadata": {},
   "source": [
    "<hr style=\"height:2px; border:none; color:#000; background-color:#000;\">"
   ]
  },
  {
   "cell_type": "markdown",
   "metadata": {
    "slideshow": {
     "slide_type": "slide"
    },
    "tags": []
   },
   "source": [
    "# C How to Program, 9/e: with Application Programming and Systems Programming Case Studies\n",
    "**Available late March/early April**: e-mail **paul@deitel.com** with questions.\n",
    "\n",
    "<a style=\"float:left; padding-right:25px; width: 200px;\" href=\"https://deitel.com/c-how-to-program-9-e/\"><img alt=\"C How to Program, 9/e\" src=\"https://deitel.com/wp-content/uploads/2021/02/c-how-to-program-9-e.jpg\" border=\"1\"/></a>\n",
    "\n",
    "**A Few Key Features:**\n",
    "* Rich coverage of programming fundamentals\n",
    "* **20+ rich case studies from computer science, artificial intelligence, data science and other fields**\n",
    "* 350+ integrated self-check exercises with answers\n",
    "* Enhanced security/data science per ACM™/IEEE™ guidelines\n",
    "* Use free open-source libraries and tools\n",
    "* gnuplot visualization\n",
    "* raylib game programming\n",
    "* AI: Machine learning, natural language processing\n",
    "* Robotics and 3D graphics with the Webots simulator\n"
   ]
  },
  {
   "cell_type": "markdown",
   "metadata": {},
   "source": [
    "<hr style=\"height:2px; border:none; color:#000; background-color:#000;\">"
   ]
  },
  {
   "cell_type": "markdown",
   "metadata": {
    "slideshow": {
     "slide_type": "slide"
    }
   },
   "source": [
    "# Multitiered Learning Approach\n",
    "* No need to take extensive notes.\n",
    "* A video of this presentation will be available 24 hours after the course—link located in the GitHub repository's README.md file."
   ]
  },
  {
   "cell_type": "markdown",
   "metadata": {},
   "source": [
    "<hr style=\"height:2px; border:none; color:#000; background-color:#000;\">"
   ]
  },
  {
   "cell_type": "markdown",
   "metadata": {
    "slideshow": {
     "slide_type": "slide"
    }
   },
   "source": [
    "# Deitel Python on O'Reilly:<br/>https://deitel.com/LearnWithDeitel\n",
    "<div style=\"float: left; padding-right:10px;text-align:center\"><a href=\"https://learning.oreilly.com/videos/python-fundamentals/9780135917411\"><img alt=\"Python Fundamentals LiveLessons cover\" src=\"./images/PythonFundamentalsLiveLessons.jpg\" width=\"200\" border=\"1\"/></a></br>50+ hours of in-depth videos</div>\n",
    "<div style=\"float: left; padding-right:10px;text-align:center\"><a href=\"https://learning.oreilly.com/library/view/intro-to-python/9780135404799/\"><img alt=\"Intro to Python for Computer Science and Data Science: Learning to Program with AI, Big Data and the Cloud\" src=\"./images/IntroToPythonCover.png\" width=\"195\" border=\"1\"></a><br/><a href=\"https://amzn.to/2LiDCmt\">Buy on Amazon</a></div></div>\n",
    "<div style=\"float: left; padding-right:10px;text-align:center\"><a href=\"https://learning.oreilly.com/library/view/python-for-programmers/9780135231364\"><img alt=\"Python for Programmers cover\" src=\"./images/PyFPCover.png\" width=\"184\" border=\"1\"/></a><br/><a href=\"https://amzn.to/2VvdnxE\">Buy on Amazon</a></div>"
   ]
  },
  {
   "cell_type": "markdown",
   "metadata": {
    "slideshow": {
     "slide_type": "slide"
    }
   },
   "source": [
    "Please do not buy both books. **Python for Programmers** is a subset of **Intro to Python**."
   ]
  },
  {
   "cell_type": "markdown",
   "metadata": {},
   "source": [
    "<hr style=\"height:2px; border:none; color:#000; background-color:#000;\">"
   ]
  },
  {
   "cell_type": "markdown",
   "metadata": {
    "slideshow": {
     "slide_type": "slide"
    }
   },
   "source": [
    "# [Our Python Textbook for College Courses](https://learning.oreilly.com/library/view/intro-to-python/9780135404799/)\n",
    "<a style=\"float: left; padding-right:25px\" href=\"https://amzn.to/2LiDCmt\"><img alt=\"Intro to Python for Computer Science and Data Science: Learning to Program with AI, Big Data and the Cloud\" src=\"./images/IntroToPythonCover.png\" width=\"150\" border=\"1\"></a>\n",
    "\n",
    "* **College Professors/Instructors**:  \n",
    "[Pre-Recorded Webinar Overview](https://www.pearson.com/us/about/news-events/events/2019/04/intro-to-python-for-computer-science-and-data-science.html).  \n",
    "* [**Request an examination copy**](https://www.pearson.com/replocator) from your Pearson rep\n",
    "* Full color\n",
    "* 880 pages&mdash;240 more than **Python for Programmers**\n",
    "* **Programming fundamentals**, including **program development**\n",
    "* **557 self-check exercises**\n",
    "* **471 end-of-chapter exercises and projects**—Good for term projects, directed studies, capstone projects and thesis research topics across many fields\n",
    "* **More Info:**\n",
    "https://deitel.com/intro-to-python-for-computer-science-and-data-science/\n",
    "   "
   ]
  },
  {
   "cell_type": "markdown",
   "metadata": {},
   "source": [
    "<hr style=\"height:2px; border:none; color:#000; background-color:#000;\">"
   ]
  },
  {
   "cell_type": "markdown",
   "metadata": {
    "slideshow": {
     "slide_type": "slide"
    }
   },
   "source": [
    "# Rhythm of the Course\n",
    "* **Whirlwind tour of Python 3**\n",
    "    * Python 2 was end of life as of April 2020 and should no longer be used\n",
    "* **Lecture only, source-code focused presentation**\n",
    "    * Six lecture segments and three breaks\n",
    "    * Two 7-minute breaks in first three hours\n",
    "    * 45-minute meal break \n",
    "    * Two 7-minute breaks in last three hours\n",
    "* [**Python for Programmers**](https://learning.oreilly.com/library/view/python-for-programmers/9780135231364/) is **indexed extensively**. \n",
    "    * If you don't see a topic here or need more detail, check the book's index to help locate the topic in our [**Python Fundamentals videos**](https://learning.oreilly.com/videos/python-fundamentals/9780135917411) or the book.\n",
    "* Questions after the course? **<paul@deitel.com>**"
   ]
  },
  {
   "cell_type": "markdown",
   "metadata": {},
   "source": [
    "<hr style=\"height:2px; border:none; color:#000; background-color:#000;\">"
   ]
  },
  {
   "cell_type": "markdown",
   "metadata": {},
   "source": [
    "# Code and Jupyter Notebooks for Today's Presentation\n",
    "* Presenting in **Jupyter Notebooks**\n",
    "    * Browser-based tool.\n",
    "    * Can combine **executable code, text, images, audio and video**.\n",
    "* **https://github.com/pdeitel/PythonFullThrottle** contains all the code and Jupyter Notebooks.\n",
    "* **`PythonFullThrottle`** folder contains this **`StartHere.ipynb`** and **sufolders `ch01`-`ch10`** for the 10 sections of today's presentation.\n",
    "* Each notebook also is **provided as an HTML document** that you can simply load in your browser&mdash;the code in these is **not** executable."
   ]
  },
  {
   "cell_type": "markdown",
   "metadata": {},
   "source": [
    "<hr style=\"height:2px; border:none; color:#000; background-color:#000;\">"
   ]
  },
  {
   "cell_type": "markdown",
   "metadata": {},
   "source": [
    "# Running the Examples in a Zero-Install Environment\n",
    "* To run today's examples in a Zero-Install environment that you can access via your web browser, use this MyBinder link: \n",
    "> https://mybinder.org/v2/gh/pdeitel/PythonFullThrottle/master?urlpath=lab\n",
    "* This will handle all but one or two of the examples.\n",
    "* When it loads, click Build. \n",
    "* When the build finishes, click Reload. "
   ]
  },
  {
   "cell_type": "markdown",
   "metadata": {},
   "source": [
    "<hr style=\"height:2px; border:none; color:#000; background-color:#000;\">"
   ]
  },
  {
   "cell_type": "markdown",
   "metadata": {},
   "source": [
    "# [Anaconda Python Distribution](https://www.anaconda.com/products/individual)\n",
    "* **Windows**, **macOS** and **Linux**\n",
    "* **Python**, the **IPython interpreter** and **Jupyter Notebooks**\n",
    "* Includes wide range of **software packages** and **libraries** commonly used in **Python programming**, **scientific computing**, **data science**, **AI** and more\n",
    "* Currently Python 3.9\n",
    "* For setup instructions, see our *Python for Programmers* [Before You Begin section](https://learning.oreilly.com/library/view/python-for-programmers/9780135231364/pref03.xhtml#pref03)"
   ]
  },
  {
   "cell_type": "markdown",
   "metadata": {
    "tags": []
   },
   "source": [
    "<hr style=\"height:2px; border:none; color:#000; background-color:#000;\">"
   ]
  },
  {
   "cell_type": "markdown",
   "metadata": {},
   "source": [
    "# Using Docker and the `jupyter/scipy-notebook` Container\n",
    "* If you prefer not to install Anaconda, you can use a Docker container.\n",
    "* In the following command, **replace `FULL_PATH_TO/PythonFullThrottle`** with the full path to the folder **`PythonFullThrottle`** on your system. \n",
    ">```\n",
    "docker run -p 8888:8888 -it --user root \\\n",
    "    -v FULL_PATH_TO/PythonFullThrottle:/home/jovyan/work \\\n",
    "    jupyter/scipy-notebook:latest start.sh jupyter lab\n",
    "```\n",
    "* On my system, **FULL_PATH_TO/PythonFullThrottle** is\n",
    "> ```\n",
    "/Users/pauldeitel/Documents/PythonFullThrottle/PythonFullThrottle/\n",
    "```\n",
    "* Downloads the container if necessary (took about 7-10 minutes on my system).\n",
    "* Attaches this presentation's files to container's `/home/jovyan/work` folder.\n",
    "* Any work you save there will be saved to the **`PythonFullThrottle`** folder on your system."
   ]
  },
  {
   "cell_type": "markdown",
   "metadata": {},
   "source": [
    "<hr style=\"height:2px; border:none; color:#000; background-color:#000;\">"
   ]
  },
  {
   "cell_type": "markdown",
   "metadata": {
    "slideshow": {
     "slide_type": "slide"
    }
   },
   "source": [
    "# Python Full Throttle Sections\n",
    "These correspond to lessons and chapters in our videos and books on O'Reilly\n",
    "1. [Introduction and Test-Drive of the IPython Interpreter](ch01/Ch01.ipynb) \n",
    "2. [Introduction to Python](ch02/Ch02.ipynb) \n",
    "3. [Control Statements](ch03/Ch03.ipynb) \n",
    "4. [Functions](ch04/Ch04.ipynb)\n",
    "5. [Sequences: Lists and Tuples; Functional-Style Programming; Static Visualization](ch05/Ch05.ipynb) \n",
    "6. [Dictionaries and Sets; Dynamic Visualization](ch06/Ch06.ipynb) \n",
    "7. [Array-Oriented Programming with NumPy](ch07/Ch07.ipynb) \n",
    "8. [Strings: A Deeper Look; Regular Expressions](ch08/Ch08.ipynb) \n",
    "9. [Files and Exceptions; JSON Serialization; CSV Files](ch09/Ch09.ipynb) \n",
    "10. [Object-Oriented Programming; Card-Shuffling-and-Dealing Simulation](ch10/Ch10.ipynb)\n",
    "11. Wrap-Up"
   ]
  },
  {
   "cell_type": "markdown",
   "metadata": {},
   "source": [
    "<hr style=\"height:2px; border:none; color:#000; background-color:#000;\">"
   ]
  },
  {
   "cell_type": "markdown",
   "metadata": {
    "slideshow": {
     "slide_type": "slide"
    }
   },
   "source": [
    "# Contact Info\n",
    "* **Questions? <paul@deitel.com>**\n",
    "* [Facebook](https://www.deitel.com/DeitelFan)\n",
    "* [Twitter](https://twitter.com/deitel) (@deitel)\n",
    "* [LinkedIn](https://linkedin.com/company/deitel-&-associates)\n",
    "* [YouTube](https://youtube.com/DeitelTV)\n"
   ]
  },
  {
   "cell_type": "markdown",
   "metadata": {},
   "source": [
    "&copy; 2022\n",
    "by Pearson Education, Inc. All Rights Reserved. The content in this notebook is based on the textbook [**Intro Python for Computer Science and Data Science**](https://amzn.to/2YU0QTJ) and our professional book [**Python for Programmers**](https://amzn.to/2VvdnxE) — Please do not purchase both. The professional book is a subset of the textbook."
   ]
  }
 ],
 "metadata": {
  "kernelspec": {
   "display_name": "Python 3",
   "language": "python",
   "name": "python3"
  },
  "language_info": {
   "codemirror_mode": {
    "name": "ipython",
    "version": 3
   },
   "file_extension": ".py",
   "mimetype": "text/x-python",
   "name": "python",
   "nbconvert_exporter": "python",
   "pygments_lexer": "ipython3",
   "version": "3.9.4"
  },
  "nbTranslate": {
   "displayLangs": [
    "*"
   ],
   "hotkey": "alt-t",
   "langInMainMenu": true,
   "sourceLang": "en",
   "targetLang": "fr",
   "useGoogleTranslate": true
  }
 },
 "nbformat": 4,
 "nbformat_minor": 4
}
