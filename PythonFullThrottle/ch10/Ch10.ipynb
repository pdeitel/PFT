{
 "cells": [
  {
   "cell_type": "markdown",
   "metadata": {},
   "source": [
    "&copy; 2022 by Pearson Education, Inc. All Rights Reserved. The content in this notebook is based on the book [**Python for Programmers**](https://amzn.to/2VvdnxE)."
   ]
  },
  {
   "cell_type": "markdown",
   "metadata": {},
   "source": [
    "### Python Fundamentals LiveLessons Videos\n",
    "* For a detailed presentation of the content in this notebook see **[Lesson 10](https://learning.oreilly.com/videos/python-fundamentals/9780135917411/9780135917411-PFLL_Lesson10_00)** on O'Reilly Online Learning"
   ]
  },
  {
   "cell_type": "markdown",
   "metadata": {},
   "source": [
    "# 10. Object-Oriented Programming\n",
    "* Note: Some sections reordered from our book for _Python Full Throttle_ presentation purposes. \n",
    "\n",
    "# 10.1 Introduction\n",
    "* Create and manipulate objects of **custom classes**.\n",
    "* Control **access** to attributes.\n",
    "* Python **special methods** for string representations of objects.\n",
    "* **Inherit** from existing classes.\n",
    "* **Class `object`**&mdash;the base class of the Python class hierarchy.\n",
    "* **Duck typing** and **polymorphism** for “programming in the general.”\n",
    "* **Overload operators** for use with custom classes.\n",
    "* Build **test cases** into docstrings and run these tests with `doctest`.\n",
    "* **Card-shuffling-and-dealing simulation**.\n",
    "* **Python 3.7’s new data classes** for building classes faster by using a more concise notation and by **autogenerating** portions of the classes. "
   ]
  },
  {
   "cell_type": "markdown",
   "metadata": {},
   "source": [
    "# 10.2 Custom Class `Account`\n",
    "* **`Account` class** holds an account holder’s name and balance.\n",
    "* `Account` accepts **deposits** that increase the balance (withdrawals not implemented). "
   ]
  },
  {
   "cell_type": "markdown",
   "metadata": {},
   "source": [
    "## 10.2.1 Test-Driving Class Account \n"
   ]
  },
  {
   "cell_type": "markdown",
   "metadata": {},
   "source": [
    "### Class `Account` Maintains the Account Balance as a **`Decimal`**"
   ]
  },
  {
   "cell_type": "code",
   "execution_count": null,
   "metadata": {},
   "outputs": [],
   "source": [
    "from account import Account"
   ]
  },
  {
   "cell_type": "code",
   "execution_count": null,
   "metadata": {},
   "outputs": [],
   "source": [
    "from decimal import Decimal"
   ]
  },
  {
   "cell_type": "markdown",
   "metadata": {},
   "source": [
    "### Creating an `Account` Object with a Constructor Expression "
   ]
  },
  {
   "cell_type": "code",
   "execution_count": null,
   "metadata": {},
   "outputs": [],
   "source": [
    "account1 = Account('John Green', Decimal('50.00'))"
   ]
  },
  {
   "cell_type": "markdown",
   "metadata": {},
   "source": [
    "### Getting an `Account`’s Name and Balance Via Data Attributes"
   ]
  },
  {
   "cell_type": "code",
   "execution_count": null,
   "metadata": {},
   "outputs": [],
   "source": [
    "account1.name"
   ]
  },
  {
   "cell_type": "code",
   "execution_count": null,
   "metadata": {},
   "outputs": [],
   "source": [
    "account1.balance"
   ]
  },
  {
   "cell_type": "markdown",
   "metadata": {},
   "source": [
    "### Depositing Money into an `Account` with Method `deposit` "
   ]
  },
  {
   "cell_type": "code",
   "execution_count": null,
   "metadata": {},
   "outputs": [],
   "source": [
    "account1.deposit(Decimal('25.53'))"
   ]
  },
  {
   "cell_type": "code",
   "execution_count": null,
   "metadata": {},
   "outputs": [],
   "source": [
    "account1.balance"
   ]
  },
  {
   "cell_type": "code",
   "execution_count": null,
   "metadata": {},
   "outputs": [],
   "source": [
    "account1.deposit(Decimal('-123.45'))  # invalid deposit"
   ]
  },
  {
   "cell_type": "markdown",
   "metadata": {},
   "source": [
    "## 10.2.2 `Account` Class Definition\n",
    "* A class's **docstring** **must** begin in the line immediately following the **class header**. "
   ]
  },
  {
   "cell_type": "markdown",
   "metadata": {},
   "source": [
    "```python\n",
    "# account.py\n",
    "\"\"\"Account class definition.\"\"\"\n",
    "from decimal import Decimal\n",
    "\n",
    "class Account:  # class header\n",
    "    \"\"\"Account class for maintaining a bank account balance.\"\"\"\n",
    "    \n",
    "    def __init__(self, name, balance):  # not allowed to return a value\n",
    "        \"\"\"Create and initialize an Account object.\"\"\"\n",
    "\n",
    "        # if balance is less than 0.00, raise an exception\n",
    "        if balance < Decimal('0.00'):\n",
    "            raise ValueError('Initial balance must be >= 0.00.')\n",
    "\n",
    "        self.name = name  # create name data attribute\n",
    "        self.balance = balance  # create balance data attribute\n",
    "\n",
    "    def deposit(self, amount):\n",
    "        \"\"\"Deposit money to the account.\"\"\"\n",
    "\n",
    "        # if amount is less than 0.00, raise an exception\n",
    "        if amount < Decimal('0.00'):\n",
    "            raise ValueError('amount must be positive.')\n",
    "\n",
    "        self.balance += amount\n",
    "```"
   ]
  },
  {
   "cell_type": "markdown",
   "metadata": {},
   "source": [
    "### Accessing a Class's Docstring Using the IPython Help Mechanism"
   ]
  },
  {
   "cell_type": "code",
   "execution_count": null,
   "metadata": {},
   "outputs": [],
   "source": [
    "Account?"
   ]
  },
  {
   "cell_type": "markdown",
   "metadata": {},
   "source": [
    "### Initializing Account Objects: Method `__init__` \n",
    "* `TypeError` if `__init__` returns anything other than `None` (the **default**). "
   ]
  },
  {
   "cell_type": "markdown",
   "metadata": {},
   "source": [
    "### `self` Parameter in Instance Methods\n",
    "* **All instance methods must specify at least one parameter**&mdash;named **`self`** by convention. \n",
    "* **Instance methods** use **`self`** to access the object’s instance attributes and methods. "
   ]
  },
  {
   "cell_type": "markdown",
   "metadata": {},
   "source": [
    "### Special Methods \n",
    "* Python class **`object`** defines the [special methods](https://docs.python.org/3/reference/datamodel.html#special-method-names) like `__init__` that are available for **all** Python objects."
   ]
  },
  {
   "cell_type": "markdown",
   "metadata": {},
   "source": [
    "# 10.3 Controlling Access to Attributes \n",
    "* Class `Account`’s methods ensure that the `balance` is **always** greater than or equal to `0.00`. \n",
    "* But, you **can still modify** attributes `name` and `balance` directly, **possibly introducing invalid data**. \n",
    "* Python tutorial: “**Nothing in Python makes it possible to enforce data hiding—it is all based upon convention.**”"
   ]
  },
  {
   "cell_type": "code",
   "execution_count": null,
   "metadata": {},
   "outputs": [],
   "source": [
    "account1 = Account('John Green', Decimal('50.00'))"
   ]
  },
  {
   "cell_type": "code",
   "execution_count": null,
   "metadata": {},
   "outputs": [],
   "source": [
    "account1.balance"
   ]
  },
  {
   "cell_type": "code",
   "execution_count": null,
   "metadata": {},
   "outputs": [],
   "source": [
    "account1.balance = Decimal('-1000.00')  # invalid value"
   ]
  },
  {
   "cell_type": "code",
   "execution_count": null,
   "metadata": {},
   "outputs": [],
   "source": [
    "account1.balance"
   ]
  },
  {
   "cell_type": "code",
   "execution_count": null,
   "metadata": {},
   "outputs": [],
   "source": [
    "account1.balance = \"hello\""
   ]
  },
  {
   "cell_type": "code",
   "execution_count": null,
   "metadata": {},
   "outputs": [],
   "source": [
    "account1.balance"
   ]
  },
  {
   "cell_type": "markdown",
   "metadata": {},
   "source": [
    "# 10.4 `Time` Class with Properties for Data Access\n",
    "* **Properties** can control the manner in which they get and modify an object’s data&mdash;**assuming programmers follow conventions**.\n",
    "* For robust date and time manipulation capabilities, see Python's [**datetime** module]( https://docs.python.org/3/library/datetime.html)"
   ]
  },
  {
   "cell_type": "markdown",
   "metadata": {},
   "source": [
    "## 10.4.1 Test-Driving Class `Time` (Defined in `timewithproperties.py`)"
   ]
  },
  {
   "cell_type": "markdown",
   "metadata": {},
   "source": [
    "### Creating a `Time` Object"
   ]
  },
  {
   "cell_type": "code",
   "execution_count": null,
   "metadata": {},
   "outputs": [],
   "source": [
    "from timewithproperties import Time"
   ]
  },
  {
   "cell_type": "code",
   "execution_count": null,
   "metadata": {},
   "outputs": [],
   "source": [
    "wake_up = Time(hour=6, minute=30)  # second defaults to 0"
   ]
  },
  {
   "cell_type": "markdown",
   "metadata": {},
   "source": [
    "### `Time` Object String Representation with `__repr__`\n",
    "* Called when you pass an object to **built-in function `repr`**—this is implicit **when you evaluate a variable in an IPython session**. \n",
    "* Python docs: `__repr__` returns **the “official” string representation of the object**. \n",
    "* Typically looks like a constructor expression."
   ]
  },
  {
   "cell_type": "code",
   "execution_count": null,
   "metadata": {},
   "outputs": [],
   "source": [
    "wake_up"
   ]
  },
  {
   "cell_type": "markdown",
   "metadata": {},
   "source": [
    "### `Time` Object String Representation with `__str__`\n",
    "* Called when you **convert an object to a string** with the built-in function `str`, `print` an object or insert an object into an f-string."
   ]
  },
  {
   "cell_type": "code",
   "execution_count": null,
   "metadata": {},
   "outputs": [],
   "source": [
    "print(wake_up)"
   ]
  },
  {
   "cell_type": "markdown",
   "metadata": {},
   "source": [
    "### Getting an Attribute Via a Property \n",
    "* Class time provides `hour`, `minute` and `second` **properties**. \n",
    "* **Properties are implemented as methods**, so they may contain logic (e.g., **validation**, **formatting**). "
   ]
  },
  {
   "cell_type": "code",
   "execution_count": null,
   "metadata": {},
   "outputs": [],
   "source": [
    "wake_up.hour  # calls the hour property's getter method"
   ]
  },
  {
   "cell_type": "markdown",
   "metadata": {},
   "source": [
    "### Setting the `Time` with Method `set_time`\n",
    "* Method `set_time` has default argument values and uses 0 for the `second` by default."
   ]
  },
  {
   "cell_type": "code",
   "execution_count": null,
   "metadata": {},
   "outputs": [],
   "source": [
    "wake_up.set_time(hour=7, minute=45)"
   ]
  },
  {
   "cell_type": "code",
   "execution_count": null,
   "metadata": {},
   "outputs": [],
   "source": [
    "wake_up"
   ]
  },
  {
   "cell_type": "markdown",
   "metadata": {},
   "source": [
    "### Setting an Attribute via a Property \n"
   ]
  },
  {
   "cell_type": "markdown",
   "metadata": {},
   "source": [
    "* This calls an `hour` method that takes `6` as an argument. "
   ]
  },
  {
   "cell_type": "code",
   "execution_count": null,
   "metadata": {},
   "outputs": [],
   "source": [
    "wake_up.hour = 6"
   ]
  },
  {
   "cell_type": "code",
   "execution_count": null,
   "metadata": {},
   "outputs": [],
   "source": [
    "print(wake_up)"
   ]
  },
  {
   "cell_type": "code",
   "execution_count": null,
   "metadata": {},
   "outputs": [],
   "source": [
    "wake_up"
   ]
  },
  {
   "cell_type": "markdown",
   "metadata": {},
   "source": [
    "### Attempting to Set an Invalid `hour` Value "
   ]
  },
  {
   "cell_type": "code",
   "execution_count": null,
   "metadata": {},
   "outputs": [],
   "source": [
    "wake_up.hour = 100"
   ]
  },
  {
   "cell_type": "markdown",
   "metadata": {},
   "source": [
    "## 10.4.2 Class `Time` Definition"
   ]
  },
  {
   "cell_type": "markdown",
   "metadata": {},
   "source": [
    "### Leading Underscore (`_`) Naming Convention\n",
    "* **Python does not have private data**. \n",
    "* You use **naming conventions** to design classes that encourage correct use. \n",
    "* Convention: Any attribute name beginning with an **underscore (`_`)** is for a class’s **private internal use only**. \n",
    "* Identifiers that do **not** begin with an underscore (`_`) are **publicly accessible**. \n",
    "* Even when we use these conventions, **attributes are always accessible**."
   ]
  },
  {
   "cell_type": "markdown",
   "metadata": {},
   "source": [
    "```python\n",
    "# timewithproperties.py\n",
    "\"\"\"Class Time with read-write properties.\"\"\"\n",
    "\n",
    "class Time:\n",
    "    \"\"\"Class Time with read-write properties.\"\"\"\n",
    "\n",
    "    def __init__(self, hour=0, minute=0, second=0):\n",
    "        \"\"\"Create and initialize each attribute.\"\"\"\n",
    "        self.hour = hour  # 0-23; invoke's hour setter\n",
    "        self.minute = minute  # 0-59; invoke's minute setter\n",
    "        self.second = second  # 0-59; invoke's second setter\n",
    "```"
   ]
  },
  {
   "cell_type": "markdown",
   "metadata": {},
   "source": [
    "```python\n",
    "    @property  # decorator\n",
    "    def hour(self):  # getter\n",
    "        \"\"\"Return the hour.\"\"\"\n",
    "        return self._hour\n",
    "\n",
    "    @hour.setter\n",
    "    def hour(self, hour):\n",
    "        \"\"\"Set the hour.\"\"\"\n",
    "        if not (0 <= hour < 24):\n",
    "            raise ValueError(f'Hour ({hour}) must be 0-23')\n",
    "\n",
    "        self._hour = hour  # underscore in _hour means \"for internal use only\"\n",
    "```"
   ]
  },
  {
   "cell_type": "markdown",
   "metadata": {},
   "source": [
    "```python\n",
    "    @property\n",
    "    def minute(self):  # getter\n",
    "        \"\"\"Return the minute.\"\"\"\n",
    "        return self._minute\n",
    "\n",
    "    @minute.setter\n",
    "    def minute(self, minute):\n",
    "        \"\"\"Set the minute.\"\"\"\n",
    "        if not (0 <= minute < 60):\n",
    "            raise ValueError(f'Minute ({minute}) must be 0-59')\n",
    "\n",
    "        self._minute = minute\n",
    "```"
   ]
  },
  {
   "cell_type": "markdown",
   "metadata": {},
   "source": [
    "```python\n",
    "    @property\n",
    "    def second(self):  # getter\n",
    "        \"\"\"Return the second.\"\"\"\n",
    "        return self._second\n",
    "\n",
    "    @second.setter\n",
    "    def second(self, second):\n",
    "        \"\"\"Set the second.\"\"\"\n",
    "        if not (0 <= second < 60):\n",
    "            raise ValueError(f'Second ({second}) must be 0-59')\n",
    "\n",
    "        self._second = second\n",
    "```"
   ]
  },
  {
   "cell_type": "markdown",
   "metadata": {},
   "source": [
    "```python\n",
    "    def set_time(self, hour=0, minute=0, second=0):\n",
    "        \"\"\"Set values of hour, minute, and second.\"\"\"\n",
    "        self.hour = hour\n",
    "        self.minute = minute\n",
    "        self.second = second\n",
    "\n",
    "    def __repr__(self):\n",
    "        \"\"\"Return Time string for repr().\"\"\"\n",
    "        return (f'Time(hour={self.hour}, minute={self.minute}, ' + \n",
    "                f'second={self.second})')\n",
    "\n",
    "    def __str__(self):\n",
    "        \"\"\"Return Time string in 12-hour clock format.\"\"\"\n",
    "        return (('12' if self.hour in (0, 12) else str(self.hour % 12)) + \n",
    "                f':{self.minute:0>2}:{self.second:0>2}' + \n",
    "                (' AM' if self.hour < 12 else ' PM'))\n",
    "```"
   ]
  },
  {
   "cell_type": "markdown",
   "metadata": {},
   "source": [
    "### IPython Auto-Completion Shows Only “Public” Attributes\n",
    "* IPython shows only \"public\" attributes when you try to **_Tab_ auto-complete** an expression.\n",
    "\n",
    "<!-- %config Completer.use_jedi = False # fix an autocompletion problem -->"
   ]
  },
  {
   "cell_type": "code",
   "execution_count": null,
   "metadata": {},
   "outputs": [],
   "source": [
    "wake_up"
   ]
  },
  {
   "cell_type": "markdown",
   "metadata": {},
   "source": [
    "# 10.5 Simulating “Private” Attributes \n",
    "* Convention: **Two leading underscores** for **“private” attributes**. \n",
    "* “Private” attributes names are **mangled**&mdash;Python inserts **\\_ClassName** before the attribute name (e.g., `_Time__hour`).\n",
    "* Assigning to a **“private” attribute** raises an `AttributeError`.\n",
    "* **Client code can still use the well-known mangled name to access the attribute**."
   ]
  },
  {
   "cell_type": "markdown",
   "metadata": {},
   "source": [
    "### Demonstrating “Private” Attributes\n",
    "Class `PrivateClass` has one **“public” data attribute** `public_data` and one **“private” data attribute** `__private_data`\n",
    "```python\n",
    "# private.py\n",
    "\"\"\"Class with public and private attributes.\"\"\"\n",
    "\n",
    "class PrivateClass:\n",
    "    \"\"\"Class with public and private attributes.\"\"\"\n",
    "\n",
    "    def __init__(self):\n",
    "        \"\"\"Initialize the public and private attributes.\"\"\"\n",
    "        self.public_data = \"public\"  # public attribute\n",
    "        self.__private_data = \"private\"  # private attribute\n",
    "\n",
    "```"
   ]
  },
  {
   "cell_type": "code",
   "execution_count": null,
   "metadata": {},
   "outputs": [],
   "source": [
    "from private import PrivateClass"
   ]
  },
  {
   "cell_type": "code",
   "execution_count": null,
   "metadata": {},
   "outputs": [],
   "source": [
    "my_object = PrivateClass()"
   ]
  },
  {
   "cell_type": "code",
   "execution_count": null,
   "metadata": {},
   "outputs": [],
   "source": [
    "my_object.public_data"
   ]
  },
  {
   "cell_type": "code",
   "execution_count": null,
   "metadata": {},
   "outputs": [],
   "source": [
    "# change __private_data to _PrivateClass__private_data and see what happens\n",
    "my_object._PrivateClass__private_data"
   ]
  },
  {
   "cell_type": "markdown",
   "metadata": {},
   "source": [
    "# 10.7 Inheritance: Base Classes and Subclasses\n",
    "\n",
    "### “is a” vs. “has a”\n",
    "* Inheritance produces **“is-a” relationships**&mdash;an object of a **subclass type** may also be treated as an object of the **base-class type**. \n",
    "* Every prior class used **“has-a” relationships (composition)**&mdash;each class has **references** to one or more objects of other classes as members. "
   ]
  },
  {
   "cell_type": "markdown",
   "metadata": {},
   "source": [
    "# 10.8 Building an Inheritance Hierarchy; Introducing Polymorphism\n",
    "* Simple payroll app to show relationship between a **base class** and its **subclass**. \n",
    "    * Base class **`CommissionEmployee`** represents employees who are paid a percentage of their sales.\n",
    "    * Subclass **`SalariedCommissionEmployee`** represents employees who receive a percentage of their sales **plus** a base salary. "
   ]
  },
  {
   "cell_type": "markdown",
   "metadata": {},
   "source": [
    "## 10.8.1 Base Class `CommissionEmployee` \n",
    "```python\n",
    "# commmissionemployee.py\n",
    "\"\"\"CommissionEmployee base class.\"\"\"\n",
    "from decimal import Decimal\n",
    "\n",
    "class CommissionEmployee:\n",
    "    \"\"\"An employee who gets paid commission based on gross sales.\"\"\"\n",
    "\n",
    "    def __init__(self, name, gross_sales, commission_rate):\n",
    "        \"\"\"Initialize CommissionEmployee's attributes.\"\"\"\n",
    "        self._name = name\n",
    "        self.gross_sales = gross_sales  # validate via property\n",
    "        self.commission_rate = commission_rate  # validate via property\n",
    "```\n",
    "\n",
    "```python\n",
    "    @property\n",
    "    def name(self):\n",
    "        return self._name\n",
    "\n",
    "    @property\n",
    "    def gross_sales(self):\n",
    "        return self._gross_sales\n",
    "\n",
    "    @gross_sales.setter\n",
    "    def gross_sales(self, sales):\n",
    "        \"\"\"Set gross sales or raise ValueError if invalid.\"\"\"\n",
    "        if sales < Decimal('0.00'):\n",
    "            raise ValueError('Gross sales must be >= to 0')\n",
    "        \n",
    "        self._gross_sales = sales\n",
    "\n",
    "    @property\n",
    "    def commission_rate(self):\n",
    "        return self._commission_rate\n",
    "\n",
    "    @commission_rate.setter\n",
    "    def commission_rate(self, rate):\n",
    "        \"\"\"Set commission rate or raise ValueError if invalid.\"\"\"\n",
    "        if not (Decimal('0.0') < rate < Decimal('1.0')):\n",
    "            raise ValueError(\n",
    "               'Interest rate must be greater than 0 and less than 1')\n",
    "        \n",
    "        self._commission_rate = rate\n",
    "\n",
    "    def earnings(self):\n",
    "        \"\"\"Calculate earnings.\"\"\"   \n",
    "        return self.gross_sales * self.commission_rate\n",
    "\n",
    "    def __repr__(self):\n",
    "        \"\"\"Return string representation for repr().\"\"\"\n",
    "        return (f'CommissionEmployee: {self.name}\\n' +\n",
    "            f'gross sales: {self.gross_sales:.2f}\\n' +\n",
    "            f'commission rate: {self.commission_rate:.2f}')\n",
    "```"
   ]
  },
  {
   "cell_type": "markdown",
   "metadata": {},
   "source": [
    "### All Classes Inherit Directly or Indirectly from Class `object`\n",
    "* If not specified, Python assumes **base class `object`**&mdash;the direct or indirect base class of **every** class. \n",
    "* Class `CommissionEmployee`’s header could be \n",
    ">```python\n",
    "class CommissionEmployee(object):\n",
    "```\n",
    "* **Single inheritance**: One class in the parentheses. \n",
    "* **Multiple inheritance**: Comma-separated list of classes in parentheses. \n",
    "* Two of the many methods inherited from `object` are `__repr__` and `__str__`. "
   ]
  },
  {
   "cell_type": "markdown",
   "metadata": {},
   "source": [
    "### Testing Class `CommissionEmployee`  "
   ]
  },
  {
   "cell_type": "code",
   "execution_count": null,
   "metadata": {},
   "outputs": [],
   "source": [
    "from commissionemployee import CommissionEmployee"
   ]
  },
  {
   "cell_type": "code",
   "execution_count": null,
   "metadata": {},
   "outputs": [],
   "source": [
    "from decimal import Decimal"
   ]
  },
  {
   "cell_type": "code",
   "execution_count": null,
   "metadata": {},
   "outputs": [],
   "source": [
    "c = CommissionEmployee('Sue Jones', Decimal('10000.00'), Decimal('0.06'))   "
   ]
  },
  {
   "cell_type": "code",
   "execution_count": null,
   "metadata": {},
   "outputs": [],
   "source": [
    "c"
   ]
  },
  {
   "cell_type": "code",
   "execution_count": null,
   "metadata": {},
   "outputs": [],
   "source": [
    "print(c)"
   ]
  },
  {
   "cell_type": "code",
   "execution_count": null,
   "metadata": {},
   "outputs": [],
   "source": [
    "print(f'{c.earnings():,.2f}')"
   ]
  },
  {
   "cell_type": "markdown",
   "metadata": {},
   "source": [
    "## 10.8.2 Subclass `SalariedCommissionEmployee` \n",
    "* A `SalariedCommissionEmployee` **is a** `CommissionEmployee` that also has the following features:\n",
    "    * **Method `__init__`** initializes all the data inherited from class `CommissionEmployee`, then uses the `base_salary` property’s `setter` to create and initialize a `_base_salary` data attribute.\n",
    "    * **Read-write property `base_salary`**, which performs validation.\n",
    "    * An overridden **`earnings` method**.\n",
    "    * An overridden **`__repr__` method**."
   ]
  },
  {
   "cell_type": "markdown",
   "metadata": {},
   "source": [
    "```python\n",
    "# salariedcommissionemployee.py\n",
    "\"\"\"SalariedCommissionEmployee derived from CommissionEmployee.\"\"\"\n",
    "from commissionemployee import CommissionEmployee\n",
    "from decimal import Decimal\n",
    "\n",
    "class SalariedCommissionEmployee(CommissionEmployee):\n",
    "    \"\"\"An employee who gets paid a salary plus \n",
    "    commission based on gross sales.\"\"\"\n",
    "\n",
    "    def __init__(self, name, gross_sales, commission_rate, base_salary):\n",
    "        \"\"\"Initialize SalariedCommissionEmployee's attributes.\"\"\"\n",
    "        super().__init__(name, gross_sales, commission_rate)\n",
    "        self.base_salary = base_salary  # validate via property\n",
    "\n",
    "    @property\n",
    "    def base_salary(self):\n",
    "        return self._base_salary\n",
    "\n",
    "    @base_salary.setter\n",
    "    def base_salary(self, salary):\n",
    "        \"\"\"Set base salary or raise ValueError if invalid.\"\"\"\n",
    "        if salary < Decimal('0.00'):\n",
    "            raise ValueError('Base salary must be >= to 0')\n",
    "        \n",
    "        self._base_salary = salary\n",
    "\n",
    "    def earnings(self):\n",
    "        \"\"\"Calculate earnings.\"\"\"   \n",
    "        return super().earnings() + self.base_salary\n",
    "\n",
    "    def __repr__(self):\n",
    "        \"\"\"Return string representation for repr().\"\"\"\n",
    "        return ('Salaried' + super().__repr__() +      \n",
    "            f'\\nbase salary: {self.base_salary:.2f}')\n",
    "```"
   ]
  },
  {
   "cell_type": "markdown",
   "metadata": {},
   "source": [
    "### Method `__init__` and Built-In Function `super` \n",
    "* Each subclass `__init__` **must explicitly call its base class’s `__init__`** to initialize the data attributes inherited from the base class. "
   ]
  },
  {
   "cell_type": "markdown",
   "metadata": {},
   "source": [
    "### Testing Class `SalariedCommissionEmployee` "
   ]
  },
  {
   "cell_type": "code",
   "execution_count": null,
   "metadata": {},
   "outputs": [],
   "source": [
    "from salariedcommissionemployee import SalariedCommissionEmployee"
   ]
  },
  {
   "cell_type": "code",
   "execution_count": null,
   "metadata": {},
   "outputs": [],
   "source": [
    "s = SalariedCommissionEmployee(\n",
    "       'Bob Lewis', Decimal('5000.00'), Decimal('0.04'), Decimal('300.00'))"
   ]
  },
  {
   "cell_type": "code",
   "execution_count": null,
   "metadata": {},
   "outputs": [],
   "source": [
    "print(s.name, s.gross_sales, s.commission_rate, s.base_salary, sep='\\n')"
   ]
  },
  {
   "cell_type": "code",
   "execution_count": null,
   "metadata": {},
   "outputs": [],
   "source": [
    "print(f'{s.earnings():,.2f}')"
   ]
  },
  {
   "cell_type": "code",
   "execution_count": null,
   "metadata": {},
   "outputs": [],
   "source": [
    "s"
   ]
  },
  {
   "cell_type": "markdown",
   "metadata": {},
   "source": [
    "## 10.8.3 Processing `CommissionEmployee`s and `SalariedCommissionEmployee`s Polymorphically\n"
   ]
  },
  {
   "cell_type": "code",
   "execution_count": null,
   "metadata": {},
   "outputs": [],
   "source": [
    "employees = [c, s]"
   ]
  },
  {
   "cell_type": "code",
   "execution_count": null,
   "metadata": {},
   "outputs": [],
   "source": [
    "for employee in employees:\n",
    "    print(employee)\n",
    "    print(f'{employee.earnings():,.2f}\\n')"
   ]
  },
  {
   "cell_type": "markdown",
   "metadata": {},
   "source": [
    "# 10.9 Duck Typing and Polymorphism\n",
    "* Other languages require inheritance-based “is a” relationships for polymorphic behavior. \n",
    "* Python has **duck typing**&mdash;“If it looks like a duck and quacks like a duck, it must be a duck.” \n",
    "* As long as an object has the data attribute, property or method (with the appropriate parameters) you wish to access, the code will work. "
   ]
  },
  {
   "cell_type": "markdown",
   "metadata": {},
   "source": [
    "### Class `WellPaidDuck`"
   ]
  },
  {
   "cell_type": "code",
   "execution_count": null,
   "metadata": {},
   "outputs": [],
   "source": [
    "class WellPaidDuck:\n",
    "    def __repr__(self):\n",
    "        return 'I am a well-paid duck'\n",
    "    def earnings(self):\n",
    "        return Decimal('1_000_000.00')"
   ]
  },
  {
   "cell_type": "code",
   "execution_count": null,
   "metadata": {},
   "outputs": [],
   "source": [
    "d = WellPaidDuck()"
   ]
  },
  {
   "cell_type": "code",
   "execution_count": null,
   "metadata": {},
   "outputs": [],
   "source": [
    "employees = [c, s, d] # c and s reused from earlier in this notebook"
   ]
  },
  {
   "cell_type": "code",
   "execution_count": null,
   "metadata": {},
   "outputs": [],
   "source": [
    "for employee in employees:\n",
    "    print(employee)\n",
    "    print(f'{employee.earnings():,.2f}\\n')"
   ]
  },
  {
   "cell_type": "markdown",
   "metadata": {},
   "source": [
    "# 10.10 Operator Overloading \n",
    "* Use **operator overloading** to define operators for your own types. \n",
    "* For each overloadable operator, class `object` defines an overridable [special method](https://docs.python.org/3/reference/datamodel.html#special-method-names)."
   ]
  },
  {
   "cell_type": "markdown",
   "metadata": {},
   "source": [
    "### Operator Overloading Restrictions\n",
    "* **Cannot change**\n",
    "    * **Precedence**\n",
    "    * **Left-to-right** or **right-to-left grouping**\n",
    "    * **“Arity”** of an operator (whether it's unary or binary)\n",
    "    * **How an operator works for built-in types**\n",
    "* **Cannot create new operators**\n"
   ]
  },
  {
   "cell_type": "markdown",
   "metadata": {},
   "source": [
    "### Complex Numbers \n",
    "* Complex numbers, like –3 + 4i and 6.2 – 11.73i, have the form \n",
    "```python\n",
    "realPart + imaginaryPart * i\n",
    "``` \n",
    "where `i` is the square root of -1. "
   ]
  },
  {
   "cell_type": "markdown",
   "metadata": {},
   "source": [
    "## 10.10.1 Test-Driving Class `Complex` "
   ]
  },
  {
   "cell_type": "code",
   "execution_count": null,
   "metadata": {},
   "outputs": [],
   "source": [
    "from complexnumber import Complex"
   ]
  },
  {
   "cell_type": "code",
   "execution_count": null,
   "metadata": {},
   "outputs": [],
   "source": [
    "x = Complex(real=2, imaginary=4)"
   ]
  },
  {
   "cell_type": "code",
   "execution_count": null,
   "metadata": {},
   "outputs": [],
   "source": [
    "x"
   ]
  },
  {
   "cell_type": "code",
   "execution_count": null,
   "metadata": {},
   "outputs": [],
   "source": [
    "y = Complex(real=5, imaginary=-1)"
   ]
  },
  {
   "cell_type": "code",
   "execution_count": null,
   "metadata": {},
   "outputs": [],
   "source": [
    "y"
   ]
  },
  {
   "cell_type": "markdown",
   "metadata": {},
   "source": [
    "### Adding `Complex` Objects with Overloaded `+` Operator\n",
    "* The `+` operator should not modify its operands."
   ]
  },
  {
   "cell_type": "code",
   "execution_count": null,
   "metadata": {},
   "outputs": [],
   "source": [
    "x + y"
   ]
  },
  {
   "cell_type": "code",
   "execution_count": null,
   "metadata": {},
   "outputs": [],
   "source": [
    "x\n"
   ]
  },
  {
   "cell_type": "code",
   "execution_count": null,
   "metadata": {},
   "outputs": [],
   "source": [
    "y"
   ]
  },
  {
   "cell_type": "markdown",
   "metadata": {},
   "source": [
    "## 10.10.2 Class `Complex` Definition\n",
    "* Overloaded binary operators **must provide two parameters**—by default, the **first** (`self`) is the **left** operand and the **second** (`right`) is the **right** operand.\n",
    "* **`__add__`** overloads `+` with the class object on the **left** passed as the **`self`** parameter (e.g., x + 7). \n",
    "* **`__radd__`** overloads `+` with the class object on the **right** passed as the **`self`** parameter (e.g., 7 + x)\n",
    "* Augmented assignment method names begin with **`i`**, as in **`__iadd__`**."
   ]
  },
  {
   "cell_type": "markdown",
   "metadata": {},
   "source": [
    "```python\n",
    "# complexnumber.py\n",
    "\"\"\"Complex class with overloaded operators.\"\"\"\n",
    "\n",
    "class Complex:\n",
    "    \"\"\"Complex class that represents a complex number \n",
    "    with real and imaginary parts.\"\"\"\n",
    "\n",
    "    def __init__(self, real, imaginary):\n",
    "        \"\"\"Initialize Complex class's attributes.\"\"\"\n",
    "        self.real = real\n",
    "        self.imaginary = imaginary\n",
    "\n",
    "    def __add__(self, right):\n",
    "        \"\"\"Overrides the + operator.\"\"\"\n",
    "        return Complex(self.real + right.real, \n",
    "                       self.imaginary + right.imaginary)\n",
    "\n",
    "    def __repr__(self):\n",
    "        \"\"\"Return string representation for repr().\"\"\"\n",
    "        return (f'({self.real}' + \n",
    "                (' + ' if self.imaginary >= 0 else ' - ') +\n",
    "                f'{abs(self.imaginary)}i)')\n",
    "```"
   ]
  },
  {
   "cell_type": "markdown",
   "metadata": {},
   "source": [
    "# 10.11 Exception Class Hierarchy and Custom Exceptions\n",
    "* Exception classes inherit directly or indirectly from base class **`BaseException`** and are defined in **module `exceptions`**. \n",
    "* **`Exception`** is the base class for most common exceptions.\n",
    "* Use existing exception types if possible, but you can create your own via inheritance. \n",
    "* [Built-in exceptions documentation](https://docs.python.org/3/library/exceptions.html)."
   ]
  },
  {
   "cell_type": "markdown",
   "metadata": {},
   "source": [
    "# 10.14 Unit Testing with Docstrings and `doctest` "
   ]
  },
  {
   "cell_type": "markdown",
   "metadata": {},
   "source": [
    "### Module `doctest` and the `testmod` Function\n",
    "* The **`doctest` module** executes **unit tests** embedded in **docstrings**. \n",
    "* The module’s **`testmod` function** inspects your **docstrings** looking for **sample Python statements preceded by `>>>`**, each followed on the next line by the given statement’s **expected output** (if any). \n",
    "* **`testmod`** executes those statements, confirms that they **produce the expected output** and **reports failed tests** so you can locate and fix the problems in your code."
   ]
  },
  {
   "cell_type": "markdown",
   "metadata": {},
   "source": [
    "### Modified `Account` Class (`accountdoctest.py`)"
   ]
  },
  {
   "cell_type": "markdown",
   "metadata": {},
   "source": [
    "```python\n",
    "# accountdoctest.py\n",
    "\"\"\"Account class definition.\"\"\"\n",
    "from decimal import Decimal\n",
    "\n",
    "class Account:\n",
    "    \"\"\"Account class for demonstrating doctest.\"\"\"\n",
    "```"
   ]
  },
  {
   "cell_type": "markdown",
   "metadata": {},
   "source": [
    "```python\n",
    "    def __init__(self, name, balance):\n",
    "        \"\"\"Initialize an Account object.\n",
    "        \n",
    "        >>> account1 = Account('John Green', Decimal('50.00')) \n",
    "        >>> account1.name \n",
    "        'John Green'\n",
    "        >>> account1.balance  \n",
    "        Decimal('50.00')\n",
    "\n",
    "        The balance argument must be greater than or equal to 0. \n",
    "        >>> account2 = Account('John Green', Decimal('-50.00')) \n",
    "        Traceback (most recent call last):\n",
    "            ...\n",
    "        ValueError: Initial balance must be >= 0.00.\n",
    "        \"\"\"\n",
    "\n",
    "        # if balance is less than 0.00, raise an exception\n",
    "        if balance < Decimal('0.00'):\n",
    "            raise ValueError('Initial balance must be >= 0.00.')\n",
    "\n",
    "        self.name = name\n",
    "        self.balance = balance\n",
    "```"
   ]
  },
  {
   "cell_type": "markdown",
   "metadata": {},
   "source": [
    "```python\n",
    "    def deposit(self, amount):\n",
    "        \"\"\"Deposit money to the account.\"\"\"\n",
    "\n",
    "        # if amount is less than 0.00, raise an exception\n",
    "        if amount < Decimal('0.00'):\n",
    "            raise ValueError('amount must be positive.')\n",
    "\n",
    "        self.balance += amount\n",
    "\n",
    "if __name__ == '__main__':\n",
    "    import doctest\n",
    "    doctest.testmod(verbose=True)\n",
    "\n",
    "```"
   ]
  },
  {
   "cell_type": "markdown",
   "metadata": {},
   "source": [
    "### Module `'__main__'` and Running Tests\n",
    "* When you load a module, Python assigns the module’s name to the **module's global attribute `__name__`**\n",
    "* Python uses the module name **`'__main__'`** if you execute a `.py` file as a **script**.\n",
    "* Run the file `accountdoctest.py` as a script to execute the tests."
   ]
  },
  {
   "cell_type": "code",
   "execution_count": null,
   "metadata": {},
   "outputs": [],
   "source": [
    "run accountdoctest.py"
   ]
  },
  {
   "cell_type": "markdown",
   "metadata": {},
   "source": [
    "### Demonstrating a _Failed_ Test\n",
    "* In `accountdoctest2.py` we **commented out the `if` statement in method `__init__`** to demonstrate a failed test. "
   ]
  },
  {
   "cell_type": "code",
   "execution_count": null,
   "metadata": {},
   "outputs": [],
   "source": [
    "run accountdoctest2.py"
   ]
  },
  {
   "cell_type": "markdown",
   "metadata": {},
   "source": [
    "### IPython `%doctest_mode` Magic\n",
    "* A convenient way to **create doctests for existing code** is to use an IPython interactive session to test your code, then copy and paste that session into a docstring. \n",
    "* IPython’s `In` `[]` and `Out[]` prompts are not compatible with `doctest`.\n",
    "* IPython provides the magic **`%doctest_mode`** to display prompts in the **`>>>`** format. \n",
    "* The magic toggles between the two prompt styles. \n"
   ]
  },
  {
   "cell_type": "markdown",
   "metadata": {},
   "source": [
    "# 10.6 Case Study: Card Shuffling and Dealing Simulation\n",
    "* **Class `Card`** represents a **playing card** that has a **face** and a **suit**. \n",
    "* **Class `DeckOfCards`** represents a **deck of 52 playing cards** as a **list of `Card` objects**. "
   ]
  },
  {
   "cell_type": "markdown",
   "metadata": {},
   "source": [
    "## 10.6.1 Test-Driving Classes Card and `DeckOfCards` "
   ]
  },
  {
   "cell_type": "markdown",
   "metadata": {},
   "source": [
    "### Creating, Shuffling and Dealing the Cards "
   ]
  },
  {
   "cell_type": "code",
   "execution_count": null,
   "metadata": {},
   "outputs": [],
   "source": [
    "from deck import DeckOfCards"
   ]
  },
  {
   "cell_type": "code",
   "execution_count": null,
   "metadata": {},
   "outputs": [],
   "source": [
    "deck_of_cards = DeckOfCards()"
   ]
  },
  {
   "cell_type": "code",
   "execution_count": null,
   "metadata": {},
   "outputs": [],
   "source": [
    "print(deck_of_cards)  # calls DeckOfCards __str__ method"
   ]
  },
  {
   "cell_type": "code",
   "execution_count": null,
   "metadata": {},
   "outputs": [],
   "source": [
    "deck_of_cards.shuffle()"
   ]
  },
  {
   "cell_type": "code",
   "execution_count": null,
   "metadata": {},
   "outputs": [],
   "source": [
    "print(deck_of_cards)"
   ]
  },
  {
   "cell_type": "markdown",
   "metadata": {},
   "source": [
    "### Dealing Cards"
   ]
  },
  {
   "cell_type": "code",
   "execution_count": null,
   "metadata": {},
   "outputs": [],
   "source": [
    "deck_of_cards.deal_card()  # IPython calls the returned Card object’s __repr__ method"
   ]
  },
  {
   "cell_type": "markdown",
   "metadata": {},
   "source": [
    "### Class `Card`’s Other Features"
   ]
  },
  {
   "cell_type": "code",
   "execution_count": null,
   "metadata": {},
   "outputs": [],
   "source": [
    "card = deck_of_cards.deal_card()"
   ]
  },
  {
   "cell_type": "code",
   "execution_count": null,
   "metadata": {},
   "outputs": [],
   "source": [
    "str(card)  # calls Card's __str__ method"
   ]
  },
  {
   "cell_type": "markdown",
   "metadata": {},
   "source": [
    "* Each `Card` has a corresponding **image file name** that we'll use to **display card images** later."
   ]
  },
  {
   "cell_type": "code",
   "execution_count": null,
   "metadata": {},
   "outputs": [],
   "source": [
    "card.image_name"
   ]
  },
  {
   "cell_type": "markdown",
   "metadata": {},
   "source": [
    "## 10.6.2 Class `Card`—Introducing Class Attributes\n",
    "* Create a **class attribute** by assigning a value to it inside the class’s definition, but not inside any of the class’s methods or properties.\n",
    "* **`FACES`** and **`SUITS`** are **\"constants\"** that are not meant to be modified. \n",
    "* Class attributes are **accessed through the class’s name**. \n",
    "* Class `Card`’s special method **`__format__`** is called when a `Card` object is **formatted** as a string&mdash;**such as when you insert it into an f-string placeholder**. "
   ]
  },
  {
   "cell_type": "markdown",
   "metadata": {},
   "source": [
    "```python\n",
    "# card.py\n",
    "\"\"\"Card class that represents a playing card and its image file name.\"\"\"\n",
    "\n",
    "class Card:\n",
    "    FACES = ['Ace', '2', '3', '4', '5', '6',\n",
    "             '7', '8', '9', '10', 'Jack', 'Queen', 'King']\n",
    "    SUITS = ['Hearts', 'Diamonds', 'Clubs', 'Spades']\n",
    "\n",
    "    def __init__(self, face, suit):\n",
    "        \"\"\"Initialize a Card with a face and suit.\"\"\"\n",
    "        self._face = face\n",
    "        self._suit = suit\n",
    "```"
   ]
  },
  {
   "cell_type": "markdown",
   "metadata": {},
   "source": [
    "```python\n",
    "    @property\n",
    "    def face(self):\n",
    "        \"\"\"Return the Card's self._face value.\"\"\"\n",
    "        return self._face\n",
    "\n",
    "    @property\n",
    "    def suit(self):\n",
    "        \"\"\"Return the Card's self._suit value.\"\"\"\n",
    "        return self._suit\n",
    "\n",
    "    @property\n",
    "    def image_name(self):  # dynamically generates its value\n",
    "        \"\"\"Return the Card's image file name.\"\"\"\n",
    "        return str(self).replace(' ', '_').lower() + '.png'\n",
    "```"
   ]
  },
  {
   "cell_type": "markdown",
   "metadata": {},
   "source": [
    "```python\n",
    "    def __repr__(self):\n",
    "        \"\"\"Return string representation for repr().\"\"\"\n",
    "        return f\"Card(face='{self.face}', suit='{self.suit}')\"     \n",
    "\n",
    "    def __str__(self):\n",
    "        \"\"\"Return string representation for str().\"\"\"\n",
    "        return f'{self.face} of {self.suit}'\n",
    "\n",
    "    def __format__(self, format):\n",
    "        \"\"\"Return formatted string representation.\"\"\"\n",
    "        return f'{str(self):{format}}'\n",
    "```"
   ]
  },
  {
   "cell_type": "markdown",
   "metadata": {},
   "source": [
    "## 10.6.3 Class `DeckOfCards` \n",
    "```python\n",
    "# deck.py\n",
    "\"\"\"Deck class represents a deck of Cards.\"\"\"\n",
    "import random \n",
    "from card import Card\n",
    "\n",
    "class DeckOfCards:\n",
    "    NUMBER_OF_CARDS = 52  # constant number of Cards\n",
    "\n",
    "    def __init__(self):\n",
    "        \"\"\"Initialize the deck.\"\"\"\n",
    "        self._current_card = 0\n",
    "        self._deck = []\n",
    "\n",
    "        for count in range(DeckOfCards.NUMBER_OF_CARDS):  \n",
    "            self._deck.append(Card(Card.FACES[count % 13], \n",
    "                Card.SUITS[count // 13]))\n",
    "```"
   ]
  },
  {
   "cell_type": "markdown",
   "metadata": {},
   "source": [
    "```python\n",
    "    def shuffle(self):\n",
    "        \"\"\"Shuffle deck.\"\"\"\n",
    "        self._current_card = 0\n",
    "        random.shuffle(self._deck)    \n",
    "\n",
    "    def deal_card(self):\n",
    "        \"\"\"Return one Card.\"\"\"\n",
    "        try:\n",
    "            card = self._deck[self._current_card]\n",
    "            self._current_card += 1\n",
    "            return card\n",
    "        except:  \n",
    "            return None  \n",
    "```"
   ]
  },
  {
   "cell_type": "markdown",
   "metadata": {},
   "source": [
    "```python\n",
    "    def __str__(self):\n",
    "        \"\"\"Return a string representation of the entire _deck.\"\"\"\n",
    "        s = ''\n",
    "\n",
    "        for index, card in enumerate(self._deck):\n",
    "            s += f'{self._deck[index]:<19}'\n",
    "            if (index + 1) % 4 == 0:\n",
    "                s += '\\n'\n",
    "        \n",
    "        return s\n",
    "```"
   ]
  },
  {
   "cell_type": "markdown",
   "metadata": {},
   "source": [
    "## 10.6.4 Displaying `Card` Images with Matplotlib \n",
    "* [**Public-domain card images** from Wikimedia Commons](https://commons.wikimedia.org/wiki/Category:SVG_English_pattern_playing_cards)\n",
    "* Provided in the `ch10` examples folder’s `card_images` subfolder. \n"
   ]
  },
  {
   "cell_type": "markdown",
   "metadata": {},
   "source": [
    "### Creating the DeckOfCards Object"
   ]
  },
  {
   "cell_type": "code",
   "execution_count": null,
   "metadata": {},
   "outputs": [],
   "source": [
    "deck_of_cards = DeckOfCards()"
   ]
  },
  {
   "cell_type": "markdown",
   "metadata": {},
   "source": [
    "### Enable Matplotlib in IPython with the `%matplotlib` Magic"
   ]
  },
  {
   "cell_type": "code",
   "execution_count": null,
   "metadata": {},
   "outputs": [],
   "source": [
    "%matplotlib inline"
   ]
  },
  {
   "cell_type": "markdown",
   "metadata": {},
   "source": [
    "### Create the Base `Path` for Each Image\n",
    "* `pathlib` module’s **`Path` class** constructs a file path. \n",
    "* Current folder represented by `'.'`\n",
    "* `Path` method **`joinpath`** appends path components like subfolders and file names.\n",
    " "
   ]
  },
  {
   "cell_type": "code",
   "execution_count": null,
   "metadata": {},
   "outputs": [],
   "source": [
    "from pathlib import Path"
   ]
  },
  {
   "cell_type": "code",
   "execution_count": null,
   "metadata": {},
   "outputs": [],
   "source": [
    "path = Path('.').joinpath('card_images')  # location of the card images"
   ]
  },
  {
   "cell_type": "markdown",
   "metadata": {},
   "source": [
    "### Import the Matplotlib Modules"
   ]
  },
  {
   "cell_type": "code",
   "execution_count": null,
   "metadata": {},
   "outputs": [],
   "source": [
    "import matplotlib.pyplot as plt"
   ]
  },
  {
   "cell_type": "code",
   "execution_count": null,
   "metadata": {},
   "outputs": [],
   "source": [
    "import matplotlib.image as mpimg  # contains function to load images"
   ]
  },
  {
   "cell_type": "code",
   "execution_count": null,
   "metadata": {},
   "outputs": [],
   "source": [
    "# Combined code for use in Jupyter Notebook.\n",
    "# All code that updates a Matplotlib Figure must appear in the same cell.\n",
    "figure, axes_list = plt.subplots(nrows=4, ncols=13)\n",
    "\n",
    "# added next two statements to increase figure size in notebook\n",
    "figure.set_figwidth(16)\n",
    "figure.set_figheight(9)\n",
    "\n",
    "for axes in axes_list.ravel():  # iterate through 2D array linearly\n",
    "    axes.get_xaxis().set_visible(False)\n",
    "    axes.get_yaxis().set_visible(False)\n",
    "    image_name = deck_of_cards.deal_card().image_name\n",
    "    img = mpimg.imread(str(path.joinpath(image_name).resolve()))\n",
    "    axes.imshow(img)\n",
    "    \n",
    "figure.tight_layout()"
   ]
  },
  {
   "cell_type": "markdown",
   "metadata": {},
   "source": [
    "### Shuffle and Re-Deal the Deck"
   ]
  },
  {
   "cell_type": "code",
   "execution_count": null,
   "metadata": {},
   "outputs": [],
   "source": [
    "deck_of_cards.shuffle()"
   ]
  },
  {
   "cell_type": "code",
   "execution_count": null,
   "metadata": {},
   "outputs": [],
   "source": [
    "# Combined code for use in Jupyter Notebook.\n",
    "# All code that updates a Matplotlib Figure must appear in the same cell.\n",
    "# Duplicated code for creating the subplots so we could display a separate image.\n",
    "figure, axes_list = plt.subplots(nrows=4, ncols=13)\n",
    "\n",
    "# added next two statements to increase figure size in notebook\n",
    "figure.set_figwidth(16)\n",
    "figure.set_figheight(9)\n",
    "\n",
    "for axes in axes_list.ravel():\n",
    "    axes.get_xaxis().set_visible(False)\n",
    "    axes.get_yaxis().set_visible(False)\n",
    "    image_name = deck_of_cards.deal_card().image_name\n",
    "    img = mpimg.imread(str(path.joinpath(image_name).resolve()))\n",
    "    axes.imshow(img)\n",
    "    \n",
    "figure.tight_layout()"
   ]
  },
  {
   "cell_type": "markdown",
   "metadata": {},
   "source": [
    "# 10.13 Python 3.7’s New Data Classes\n",
    "* **Data classes** (module **`dataclasses`**) help you build classes **faster** with more **concise notation**. \n",
    "* Can be **generated dynamically from a list of field names**, like what often is found in **a CSV file's first line**."
   ]
  },
  {
   "cell_type": "markdown",
   "metadata": {},
   "source": [
    "### Data Classes Autogenerate \"Boilerplate\" Code \n",
    "* **Autogenerate data attributes** and the **`__init__` and `__repr__` methods** for you. \n",
    "* **Autogenerate method `__eq__`**, which **overloads the `==` operator**. \n",
    "    * Any class with an **`__eq__` method** implicitly **supports `!=`**&mdash;**all classes inherit `object`’s default `__ne__` (not equals) method implementation**, which returns the opposite of `__eq__` (or `NotImplemented` if the class does not define `__eq__`). \n",
    "* Optionally, **generate methods** for the **`<`**, **`<=`**, **`>`** and **`>=`** comparison operators.\n",
    "* May contain **properties** and **methods**, and participate in class hierarchies. "
   ]
  },
  {
   "cell_type": "markdown",
   "metadata": {},
   "source": [
    "```python\n",
    "# carddataclass.py\n",
    "\"\"\"Card data class with class attributes, data attributes,\n",
    "autogenerated methods and explicitly defined methods.\"\"\"\n",
    "from dataclasses import dataclass\n",
    "from typing import ClassVar, List\n",
    "\n",
    "@dataclass  # decorator\n",
    "class Card:\n",
    "    FACES: ClassVar[List[str]] = ['Ace', '2', '3', '4', '5', '6', '7', \n",
    "                                  '8', '9', '10', 'Jack', 'Queen', 'King']\n",
    "    SUITS: ClassVar[List[str]] = ['Hearts', 'Diamonds', 'Clubs', 'Spades']\n",
    "\n",
    "    face: str\n",
    "    suit: str\n",
    "\n",
    "    @property\n",
    "    def image_name(self):\n",
    "        \"\"\"Return the Card's image file name.\"\"\"\n",
    "        return str(self).replace(' ', '_').lower() + '.png'\n",
    "\n",
    "    def __str__(self):\n",
    "        \"\"\"Return string representation for str().\"\"\"\n",
    "        return f'{self.face} of {self.suit}'\n",
    "    \n",
    "    def __format__(self, format):\n",
    "        \"\"\"Return formatted string representation.\"\"\"\n",
    "        return f'{str(self):{format}}'\n",
    "```"
   ]
  },
  {
   "cell_type": "markdown",
   "metadata": {},
   "source": [
    "### Using the `@dataclass` Decorator\n",
    "* The **decorator `@dataclass(order=True)`** causes the data class to **autogenerate overloaded `<`, `<=`, `>` and `>=` operators**. \n",
    "* This might be useful if you need to **sort your data-class objects**."
   ]
  },
  {
   "cell_type": "markdown",
   "metadata": {},
   "source": [
    "### Variable Annotations\n",
    "* **Data classes** declare both **class attributes** and **data attributes** inside the class, but **outside** the class’s methods.\n",
    "* Data classes require **variable annotations** to distinguish class attributes from data attributes.\n",
    "* **Variable annotations** also help a data class autogenerate its methods' implementation details."
   ]
  },
  {
   "cell_type": "markdown",
   "metadata": {},
   "source": [
    "### Methods `__init__`, `__repr__` and `__eq__`\n",
    "* **Data classes** inspect the **variable annotations** and include only the **data attributes** in generated method implementations. "
   ]
  },
  {
   "cell_type": "markdown",
   "metadata": {},
   "source": [
    "### Variable Annotation Notes\n",
    "* **Variable annotations** can use built-in types (like **`str`**, **`int`** and **`float`**), class types or types defined by the **`typing` module** (such as **`ClassVar`** and **`List`**). \n",
    "* **Type annotations are not enforced at execution time**.\n",
    "* `Card`’s `face` is meant to be a string, by you can assign it any type of object."
   ]
  },
  {
   "cell_type": "markdown",
   "metadata": {},
   "source": [
    "## 10.13.2 Using the `Card` Data Class \n"
   ]
  },
  {
   "cell_type": "code",
   "execution_count": null,
   "metadata": {},
   "outputs": [],
   "source": [
    "from carddataclass import Card"
   ]
  },
  {
   "cell_type": "code",
   "execution_count": null,
   "metadata": {},
   "outputs": [],
   "source": [
    "c1 = Card(Card.FACES[0], Card.SUITS[3])"
   ]
  },
  {
   "cell_type": "markdown",
   "metadata": {},
   "source": [
    "### Use `Card`’s Autogenerated `__repr__` Method"
   ]
  },
  {
   "cell_type": "code",
   "execution_count": null,
   "metadata": {},
   "outputs": [],
   "source": [
    "c1"
   ]
  },
  {
   "cell_type": "markdown",
   "metadata": {},
   "source": [
    "### Use Custom `__str__` Method"
   ]
  },
  {
   "cell_type": "code",
   "execution_count": null,
   "metadata": {},
   "outputs": [],
   "source": [
    "print(c1)"
   ]
  },
  {
   "cell_type": "markdown",
   "metadata": {},
   "source": [
    "### Access the Data Class’s Attributes and Read-Only Property "
   ]
  },
  {
   "cell_type": "code",
   "execution_count": null,
   "metadata": {},
   "outputs": [],
   "source": [
    "c1.face"
   ]
  },
  {
   "cell_type": "code",
   "execution_count": null,
   "metadata": {},
   "outputs": [],
   "source": [
    "c1.suit"
   ]
  },
  {
   "cell_type": "code",
   "execution_count": null,
   "metadata": {},
   "outputs": [],
   "source": [
    "c1.image_name"
   ]
  },
  {
   "cell_type": "markdown",
   "metadata": {},
   "source": [
    "### Compare `Card`s via the Autogenerated `==` Operator and Inherited `!=` Operator"
   ]
  },
  {
   "cell_type": "code",
   "execution_count": null,
   "metadata": {},
   "outputs": [],
   "source": [
    "c2 = Card(Card.FACES[0], Card.SUITS[3])"
   ]
  },
  {
   "cell_type": "code",
   "execution_count": null,
   "metadata": {},
   "outputs": [],
   "source": [
    "c2"
   ]
  },
  {
   "cell_type": "code",
   "execution_count": null,
   "metadata": {},
   "outputs": [],
   "source": [
    "c3 = Card(Card.FACES[0], Card.SUITS[0])"
   ]
  },
  {
   "cell_type": "code",
   "execution_count": null,
   "metadata": {},
   "outputs": [],
   "source": [
    "c3"
   ]
  },
  {
   "cell_type": "code",
   "execution_count": null,
   "metadata": {},
   "outputs": [],
   "source": [
    "c1 == c2"
   ]
  },
  {
   "cell_type": "code",
   "execution_count": null,
   "metadata": {},
   "outputs": [],
   "source": [
    "c1 == c3"
   ]
  },
  {
   "cell_type": "code",
   "execution_count": null,
   "metadata": {},
   "outputs": [],
   "source": [
    "c1 != c3"
   ]
  },
  {
   "cell_type": "markdown",
   "metadata": {},
   "source": [
    "### Using the `Card` Data Class in Class `DeckOfCards` \n",
    "* The **`deck2.py` file** contains **class `DeckOfCards`** using the **`Card` data class**. "
   ]
  },
  {
   "cell_type": "code",
   "execution_count": null,
   "metadata": {},
   "outputs": [],
   "source": [
    "from deck2 import DeckOfCards  # uses Card data class"
   ]
  },
  {
   "cell_type": "code",
   "execution_count": null,
   "metadata": {},
   "outputs": [],
   "source": [
    "deck_of_cards = DeckOfCards()"
   ]
  },
  {
   "cell_type": "code",
   "execution_count": null,
   "metadata": {},
   "outputs": [],
   "source": [
    "print(deck_of_cards)"
   ]
  },
  {
   "cell_type": "markdown",
   "metadata": {},
   "source": [
    "## 10.13.4 Data Class Advantages over Traditional Classes\n",
    "* When you change a **data class's data attributes** then use it in a script or interactive session, the **autogenerated code updates automatically**.\n",
    "* **Less code to maintain and debug**.\n",
    "* **Variable annotations** enable some **static code analysis tools** to show potential errors before they can occur at **execution time**&mdash;e.g., warn you when you use the wrong data type."
   ]
  },
  {
   "cell_type": "markdown",
   "metadata": {},
   "source": [
    "### More Information on Data Classes \n",
    "* [PEP 557](https://www.python.org/dev/peps/pep-0557/)\n",
    "* [Data Classes in Python documentation](https://docs.python.org/3/library/dataclasses.html)"
   ]
  },
  {
   "cell_type": "markdown",
   "metadata": {},
   "source": [
    "# More Info \n",
    "* See Lesson 10 in [**Python Fundamentals LiveLessons** here on O'Reilly Online Learning](https://learning.oreilly.com/videos/python-fundamentals/9780135917411)\n",
    "* See Chapter 10 in [**Python for Programmers** on O'Reilly Online Learning](https://learning.oreilly.com/library/view/python-for-programmers/9780135231364/)\n",
    "* Interested in a print book? Check out:\n",
    "\n",
    "| Python for Programmers | Intro to Python for Computer<br>Science and Data Science\n",
    "| :------ | :------\n",
    "| <a href=\"https://amzn.to/2VvdnxE\"><img alt=\"Python for Programmers cover\" src=\"../images/PyFPCover.png\" width=\"150\" border=\"1\"/></a> | <a href=\"https://amzn.to/2LiDCmt\"><img alt=\"Intro to Python for Computer Science and Data Science: Learning to Program with AI, Big Data and the Cloud\" src=\"../images/IntroToPythonCover.png\" width=\"159\" border=\"1\"></a>\n",
    "\n",
    ">Please **do not** purchase both books&mdash;_Python for Programmers_ is a subset of _Intro to Python for Computer Science and Data Science_"
   ]
  },
  {
   "cell_type": "markdown",
   "metadata": {},
   "source": [
    "&copy; 2022 by Pearson Education, Inc. All Rights Reserved. The content in this notebook is based on the book [**Python for Programmers**](https://amzn.to/2VvdnxE)."
   ]
  }
 ],
 "metadata": {
  "kernelspec": {
   "display_name": "Python 3",
   "language": "python",
   "name": "python3"
  },
  "language_info": {
   "codemirror_mode": {
    "name": "ipython",
    "version": 3
   },
   "file_extension": ".py",
   "mimetype": "text/x-python",
   "name": "python",
   "nbconvert_exporter": "python",
   "pygments_lexer": "ipython3",
   "version": "3.9.4"
  }
 },
 "nbformat": 4,
 "nbformat_minor": 4
}
